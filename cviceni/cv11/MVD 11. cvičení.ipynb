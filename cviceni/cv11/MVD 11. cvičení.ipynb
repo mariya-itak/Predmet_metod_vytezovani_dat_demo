{
 "cells": [
  {
   "cell_type": "markdown",
   "metadata": {},
   "source": [
    "# MVD 11. cvičení\n"
   ]
  },
  {
   "cell_type": "markdown",
   "metadata": {},
   "source": [
    "## 1. část - Collaborative Filtering (item-item)\n",
    "\n",
    "Vytvořte si matici podle příkladu v přednášce na item-item přístup na snímku 24. Využijte centered cosine similarity pro výpočet podobností stejně jako v přednášce a vyberte dva nejbližší sousedy. Ověřte, že je výsledek v přednášce správný a implementujte funkci tak, aby bylo možné jednoduše spočítat i libovolné další vyhodnocení. "
   ]
  },
  {
   "cell_type": "code",
   "execution_count": 4,
   "metadata": {},
   "outputs": [
    {
     "data": {
      "text/plain": [
       "2.586406866934817"
      ]
     },
     "execution_count": 4,
     "metadata": {},
     "output_type": "execute_result"
    }
   ],
   "source": [
    "import numpy as np\n",
    "from scipy import spatial\n",
    "\n",
    "mat = np.array([[1,0,3,0,0,5,0,0,5,0,4,0],[0,0,5,4,0,0,4,0,0,2,1,3],[2,4,0,1,2,0,3,0,4,3,5,0], [0,2,4,0,5,0,0,4,0,0,2,0], [0,0,4,3,4,2,0,0,0,0,2,5], [1,0,3,0,3,0,0,2,0,0,4,0]], dtype=float)\n",
    "idx = (0, 4)\n",
    "\n",
    "def cossim_centred(matrix):\n",
    "    matr_norm = np.copy(matrix)\n",
    "    for i, row in enumerate(matr_norm):\n",
    "        mean = np.mean(row)\n",
    "        count = np.where(row != 0)[0].shape[0]\n",
    "        suma = np.sum(row)\n",
    "        mean = suma/count\n",
    "        for j, item in enumerate(row):\n",
    "            if item != 0:\n",
    "                matr_norm[i, j] = matr_norm[i, j] - mean\n",
    "    return matr_norm\n",
    "    \n",
    "def collab_filtr(mat, idx):\n",
    "    matrix_norm = cossim_centred(mat)\n",
    "    similarities = []\n",
    "    for index in set(np.where(mat != mat[idx[0]])[0]):\n",
    "        sim = 1 - spatial.distance.cosine(matrix_norm[idx[0]], matrix_norm[index])\n",
    "        similarities.append(sim)\n",
    "    near_neigh_idx = np.array(similarities).argsort()[-2:]\n",
    "    sum_s_r = 0\n",
    "    sum_s = 0\n",
    "    for i in near_neigh_idx[::-1]:\n",
    "        sum_s_r += similarities[i]*mat[i+1, idx[1]]\n",
    "        sum_s += similarities[i]\n",
    "    r = sum_s_r/sum_s\n",
    "    return r\n",
    "    \n",
    "collab_filtr(mat, idx)"
   ]
  },
  {
   "cell_type": "markdown",
   "metadata": {},
   "source": [
    "## Bonus - Content-based Filtering\n",
    "\n",
    "Stáhněte si Kaggle dataset [Spotify Recommendation system](https://www.kaggle.com/bricevergnou/spotify-recommendation). Y datasetu budete pot5ebovat:\n",
    "\n",
    "- data.csv = příznaky k jednotlivým skladbám + příznak liked pro klasifikaci\n",
    "\n",
    "Úkolem je:\n",
    "\n",
    "1. Načíst data z csv.\n",
    "2. Vytvořit train (90 %) a test (10 %) split pomocí knihovny [sklearn](https://scikit-learn.org/stable/modules/generated/sklearn.model_selection.train_test_split.html).\n",
    "3. Vytvořit model logistické regrese (vlastní implementace / využití knihovny sklearn nebo jiné).\n",
    "4. Vyhodnotit data na testovací sadě (např. metoda score u LogisticRegression).\n",
    "\n",
    "**Skóre pro uznání úlohy musí být vyšší než 89 %.**\n",
    "\n",
    "Dobrovolné: vytvořit graf predikovaných vs aktuálních hodnot\n",
    "Získání bodu navíc: Využijte i další algoritmy pro binární klasifikaci."
   ]
  },
  {
   "cell_type": "code",
   "execution_count": 11,
   "metadata": {},
   "outputs": [],
   "source": [
    "import pandas as pd\n",
    "from sklearn.model_selection import train_test_split\n",
    "from sklearn.linear_model import LogisticRegression\n",
    "from sklearn.preprocessing import MinMaxScaler\n",
    "\n",
    "model = LogisticRegression(C=500)\n",
    "data = pd.read_csv('data.csv')\n",
    "x_train, x_test, y_train, y_test = train_test_split(data.drop('liked', axis=1), data.liked, test_size=0.1)"
   ]
  },
  {
   "cell_type": "code",
   "execution_count": 15,
   "metadata": {},
   "outputs": [
    {
     "name": "stdout",
     "output_type": "stream",
     "text": [
      "Score 0.9\n"
     ]
    },
    {
     "name": "stderr",
     "output_type": "stream",
     "text": [
      "C:\\Users\\kanyk\\AppData\\Local\\Packages\\PythonSoftwareFoundation.Python.3.9_qbz5n2kfra8p0\\LocalCache\\local-packages\\Python39\\site-packages\\sklearn\\linear_model\\_logistic.py:814: ConvergenceWarning: lbfgs failed to converge (status=1):\n",
      "STOP: TOTAL NO. of ITERATIONS REACHED LIMIT.\n",
      "\n",
      "Increase the number of iterations (max_iter) or scale the data as shown in:\n",
      "    https://scikit-learn.org/stable/modules/preprocessing.html\n",
      "Please also refer to the documentation for alternative solver options:\n",
      "    https://scikit-learn.org/stable/modules/linear_model.html#logistic-regression\n",
      "  n_iter_i = _check_optimize_result(\n"
     ]
    }
   ],
   "source": [
    "min_max_scaler = MinMaxScaler()\n",
    "x_train_minmax = min_max_scaler.fit_transform(x_train)\n",
    "x_test_minmax = min_max_scaler.transform(x_test)\n",
    "model.fit(x_train_minmax, y_train)\n",
    "predictions = model.predict(x_test_minmax)\n",
    "score = model.score(x_test_minmax, y_test)\n",
    "print(\"Score\", score)"
   ]
  },
  {
   "cell_type": "code",
   "execution_count": null,
   "metadata": {},
   "outputs": [],
   "source": []
  }
 ],
 "metadata": {
  "kernelspec": {
   "display_name": "Python 3 (ipykernel)",
   "language": "python",
   "name": "python3"
  },
  "language_info": {
   "codemirror_mode": {
    "name": "ipython",
    "version": 3
   },
   "file_extension": ".py",
   "mimetype": "text/x-python",
   "name": "python",
   "nbconvert_exporter": "python",
   "pygments_lexer": "ipython3",
   "version": "3.9.9"
  }
 },
 "nbformat": 4,
 "nbformat_minor": 4
}
